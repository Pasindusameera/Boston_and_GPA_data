{
 "cells": [
  {
   "cell_type": "code",
   "execution_count": 1,
   "id": "310a319b",
   "metadata": {},
   "outputs": [],
   "source": [
    "import numpy as np\n",
    "import pandas as pd\n",
    "from sklearn.model_selection import cross_val_score\n",
    "from sklearn.linear_model import LinearRegression"
   ]
  },
  {
   "cell_type": "code",
   "execution_count": 2,
   "id": "09f8789a",
   "metadata": {},
   "outputs": [],
   "source": [
    "data=pd.read_csv(\"C:\\\\R DATA SETS\\\\Boston.csv\")"
   ]
  },
  {
   "cell_type": "code",
   "execution_count": 3,
   "id": "09143184",
   "metadata": {},
   "outputs": [],
   "source": [
    "x=data.iloc[:,:12].values\n",
    "y=data.iloc[:,12].values"
   ]
  },
  {
   "cell_type": "code",
   "execution_count": 4,
   "id": "347733c1",
   "metadata": {},
   "outputs": [],
   "source": [
    "model=LinearRegression()"
   ]
  },
  {
   "cell_type": "code",
   "execution_count": 18,
   "id": "ca3a9acc",
   "metadata": {},
   "outputs": [
    {
     "data": {
      "text/plain": [
       "array([  -9.17006701,  -14.76188969,  -11.78968809,  -34.93168849,\n",
       "        -26.8851826 ,  -19.52818886,  -10.70555866, -171.48795123,\n",
       "        -35.0922184 ,  -11.64765827])"
      ]
     },
     "execution_count": 18,
     "metadata": {},
     "output_type": "execute_result"
    }
   ],
   "source": [
    "ncvals=cross_val_score(model,x,y,cv=10,scoring=\"neg_mean_squared_error\")\n",
    "ncvals"
   ]
  },
  {
   "cell_type": "code",
   "execution_count": 23,
   "id": "dcb36fb4",
   "metadata": {},
   "outputs": [
    {
     "data": {
      "text/plain": [
       "array([ 0.73711154,  0.45033638, -0.68072223,  0.64394529,  0.61859224,\n",
       "        0.74049177,  0.33088987, -0.15010182, -0.86194695,  0.38250967])"
      ]
     },
     "execution_count": 23,
     "metadata": {},
     "output_type": "execute_result"
    }
   ],
   "source": [
    "ncvals=cross_val_score(model,x,y,cv=10)\n",
    "ncvals"
   ]
  },
  {
   "cell_type": "code",
   "execution_count": 19,
   "id": "98903678",
   "metadata": {},
   "outputs": [
    {
     "data": {
      "text/plain": [
       "array([  9.17006701,  14.76188969,  11.78968809,  34.93168849,\n",
       "        26.8851826 ,  19.52818886,  10.70555866, 171.48795123,\n",
       "        35.0922184 ,  11.64765827])"
      ]
     },
     "execution_count": 19,
     "metadata": {},
     "output_type": "execute_result"
    }
   ],
   "source": [
    "cvals=-ncvals\n",
    "cvals"
   ]
  },
  {
   "cell_type": "code",
   "execution_count": 20,
   "id": "54ab456e",
   "metadata": {},
   "outputs": [
    {
     "data": {
      "text/plain": [
       "array([ 3.02821185,  3.84212047,  3.43361152,  5.91030359,  5.18509234,\n",
       "        4.41907104,  3.271935  , 13.09534082,  5.92386853,  3.41286658])"
      ]
     },
     "execution_count": 20,
     "metadata": {},
     "output_type": "execute_result"
    }
   ],
   "source": [
    "np.sqrt(cvals)"
   ]
  },
  {
   "cell_type": "code",
   "execution_count": 21,
   "id": "4459596d",
   "metadata": {},
   "outputs": [
    {
     "data": {
      "text/plain": [
       "5.152242174479918"
      ]
     },
     "execution_count": 21,
     "metadata": {},
     "output_type": "execute_result"
    }
   ],
   "source": [
    "np.mean(np.sqrt(cvals))"
   ]
  },
  {
   "cell_type": "code",
   "execution_count": 22,
   "id": "b911f5b1",
   "metadata": {},
   "outputs": [
    {
     "data": {
      "text/plain": [
       "5.882177244011862"
      ]
     },
     "execution_count": 22,
     "metadata": {},
     "output_type": "execute_result"
    }
   ],
   "source": [
    "np.sqrt(cvals.mean())"
   ]
  },
  {
   "cell_type": "code",
   "execution_count": null,
   "id": "689c3210",
   "metadata": {},
   "outputs": [],
   "source": []
  },
  {
   "cell_type": "code",
   "execution_count": null,
   "id": "324f5e5a",
   "metadata": {},
   "outputs": [],
   "source": []
  }
 ],
 "metadata": {
  "kernelspec": {
   "display_name": "Python 3 (ipykernel)",
   "language": "python",
   "name": "python3"
  },
  "language_info": {
   "codemirror_mode": {
    "name": "ipython",
    "version": 3
   },
   "file_extension": ".py",
   "mimetype": "text/x-python",
   "name": "python",
   "nbconvert_exporter": "python",
   "pygments_lexer": "ipython3",
   "version": "3.9.13"
  }
 },
 "nbformat": 4,
 "nbformat_minor": 5
}
